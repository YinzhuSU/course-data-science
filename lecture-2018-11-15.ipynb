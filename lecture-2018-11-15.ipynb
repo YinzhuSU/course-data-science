{
 "cells": [
  {
   "cell_type": "markdown",
   "metadata": {
    "slideshow": {
     "slide_type": "slide"
    }
   },
   "source": [
    "# Significance and Interpretation"
   ]
  },
  {
   "cell_type": "code",
   "execution_count": 2,
   "metadata": {
    "slideshow": {
     "slide_type": "slide"
    }
   },
   "outputs": [],
   "source": [
    "%matplotlib inline\n",
    "%config InlineBackend.figure_format='retina'\n",
    "# import libraries\n",
    "import numpy as np\n",
    "import matplotlib as mp\n",
    "import pandas as pd\n",
    "import matplotlib.pyplot as plt\n",
    "import pandas as pd\n",
    "from importlib import reload\n",
    "from datetime import datetime\n",
    "from IPython.display import Image\n",
    "from IPython.display import display_html\n",
    "from IPython.display import display\n",
    "from IPython.display import Math\n",
    "from IPython.display import Latex\n",
    "from IPython.display import HTML"
   ]
  },
  {
   "cell_type": "code",
   "execution_count": 3,
   "metadata": {
    "slideshow": {
     "slide_type": "slide"
    }
   },
   "outputs": [
    {
     "data": {
      "text/html": [
       "<style>\n",
       " .container.slides .celltoolbar, .container.slides .hide-in-slideshow {\n",
       "    display: None ! important;\n",
       "}\n",
       "</style>"
      ],
      "text/plain": [
       "<IPython.core.display.HTML object>"
      ]
     },
     "metadata": {},
     "output_type": "display_data"
    }
   ],
   "source": [
    "%%html\n",
    "<style>\n",
    " .container.slides .celltoolbar, .container.slides .hide-in-slideshow {\n",
    "    display: None ! important;\n",
    "}\n",
    "</style>"
   ]
  },
  {
   "cell_type": "markdown",
   "metadata": {
    "slideshow": {
     "slide_type": "slide"
    }
   },
   "source": [
    "## Mean and standard deviation using linear algebra"
   ]
  },
  {
   "cell_type": "markdown",
   "metadata": {
    "slideshow": {
     "slide_type": "slide"
    }
   },
   "source": [
    "**Example:** Suppose we have a data set of two observations along one feature dimension: $x_1 = 10$ and $x_2 = 2$. We can interpret this data set as a single vector $x = (10, 2)$. We can compute the orthogonal projection of this vector onto the diagonal in $\\mathbb{R}^2$ (note we have two dimensions in this vector space because there are two data entries)."
   ]
  },
  {
   "cell_type": "code",
   "execution_count": 109,
   "metadata": {
    "slideshow": {
     "slide_type": "skip"
    }
   },
   "outputs": [
    {
     "name": "stdout",
     "output_type": "stream",
     "text": [
      "Dot product x * d/||d|| = 8.48528137423857\n",
      "Orthogonal projection onto d is [6. 6.]\n"
     ]
    }
   ],
   "source": [
    "x = np.array([10,2])\n",
    "d = np.array([1,1])\n",
    "print(\"Dot product x * d/||d|| =\", x.dot(d/np.linalg.norm(d)))\n",
    "print(\"Orthogonal projection onto d is\", (d/np.linalg.norm(d)) * (x).dot(d/np.linalg.norm(d)))"
   ]
  },
  {
   "cell_type": "markdown",
   "metadata": {
    "slideshow": {
     "slide_type": "slide"
    }
   },
   "source": [
    "Note that the entries in the orthogonal projection are exactly the mean of the original data. Furthermore, the standard deviation is the length of the projection vector (normalized using $\\sqrt{n}$ to account for variation in the number of observations and, thus, vector space dimensions)."
   ]
  },
  {
   "cell_type": "code",
   "execution_count": 119,
   "metadata": {
    "slideshow": {
     "slide_type": "skip"
    }
   },
   "outputs": [
    {
     "name": "stdout",
     "output_type": "stream",
     "text": [
      "4.0\n",
      "4.0\n"
     ]
    }
   ],
   "source": [
    "orth_proj_onto_diag = (d/np.linalg.norm(d)) * (x).dot(d/np.linalg.norm(d))\n",
    "length_normalized_by_dims = np.linalg.norm(x - orth_proj_onto_diag) / np.sqrt(len(x))\n",
    "print(length_normalized_by_dims)\n",
    "print(x.std())"
   ]
  },
  {
   "cell_type": "markdown",
   "metadata": {
    "slideshow": {
     "slide_type": "slide"
    }
   },
   "source": [
    "## Correlation coefficient and significance"
   ]
  },
  {
   "cell_type": "markdown",
   "metadata": {
    "slideshow": {
     "slide_type": "slide"
    }
   },
   "source": [
    "**Definition (distribution):** A distribution over a set $S$ is a function $f: S \\to \\mathbb{R}$. If $S$ represents a set of possible observations, then a distribution $f$ might represent the probability that each observation will be observed, or the frequency with which that observation will occur."
   ]
  },
  {
   "cell_type": "markdown",
   "metadata": {
    "slideshow": {
     "slide_type": "slide"
    }
   },
   "source": [
    "**Definition ($p$-value):** Let a subset of the real number line $S \\subset \\mathbb{R}$ represent all possible observations that *could* be recorded, and let $f$ be a distribution over $S$ that represents the probability of seeing each of the possible observations. Given some state $s \\in S$, the probability of observing $s$ is then $f(s)$. We define the <i>$p$-value</i> at the observation $s$ to be the probability of observing anything that is equal to or more extreme than $s$."
   ]
  },
  {
   "cell_type": "markdown",
   "metadata": {
    "slideshow": {
     "slide_type": "slide"
    }
   },
   "source": [
    "Note that the observation set $S$ in the above definition could refer to many things, including (among many others):\n",
    "* a feature dimension within a data set that represents a sample of some larger population (e.g., the heights of people in a region),\n",
    "* a quantitative measure of the accuracy of a model when tested on a data set, or\n",
    "* the correlation between two feature dimensions."
   ]
  },
  {
   "cell_type": "markdown",
   "metadata": {
    "slideshow": {
     "slide_type": "slide"
    }
   },
   "source": [
    "**Example:** Assume we have a two-dimensional data set $[(x_1, y_1), ..., (x_n, y_n)]$, also represented by $x \\in \\mathbb{R}^n$ and $y \\in \\mathbb{R}^n$. One way to obtain a range of possible correlation coefficients is to compute the correlation coefficient for all $n!$ possible permutations of the second dimension.\n",
    "\n",
    "Informally, if the data has no correlation, then performing this permutation should not change the correlation coefficient much. On the other hand, if the data does have a correlation, we should get a distribution of correlation coefficients with respect to which the true correlation coefficient is \"extreme\"."
   ]
  },
  {
   "cell_type": "code",
   "execution_count": 30,
   "metadata": {
    "slideshow": {
     "slide_type": "skip"
    }
   },
   "outputs": [
    {
     "data": {
      "image/png": "[encoded data removed]",
      "text/plain": [
       "<Figure size 432x288 with 1 Axes>"
      ]
     },
     "metadata": {
      "image/png": {
       "height": 250,
       "width": 370
      },
      "needs_background": "light"
     },
     "output_type": "display_data"
    }
   ],
   "source": [
    "from random import shuffle\n",
    "from math import sqrt\n",
    "\n",
    "data = [(18, 28), (24, 18), (27, 31), (14, 15), (46, 23),\n",
    "        (36, 19), (27, 10), (34, 25), (19, 15), (13, 13),\n",
    "        (4, 2), (17, 20), (28, 12), (36, 11), (26, 14),\n",
    "        (19, 19), (24, 13), (25, 6), (20, 8), (17, 22),\n",
    "        (18, 8), (25, 12), (28, 27), (31, 28), (35, 22),\n",
    "        (17, 8), (19, 19), (23, 23), (22, 11)]\n",
    "x = [xi for (xi, yi) in data]\n",
    "y = [yi for (xi, yi) in data]\n",
    "_ = plt.scatter(x, y, s=8)"
   ]
  },
  {
   "cell_type": "code",
   "execution_count": 31,
   "metadata": {
    "slideshow": {
     "slide_type": "skip"
    }
   },
   "outputs": [
    {
     "name": "stdout",
     "output_type": "stream",
     "text": [
      "0.3967089924093942\n",
      "0.02948525737131434\n"
     ]
    }
   ],
   "source": [
    "def permute(x):\n",
    "    shuffled = [xi for xi in x]\n",
    "    shuffle(shuffled)\n",
    "    return shuffled\n",
    "\n",
    "def avg(x): # Average or mean.\n",
    "    return sum(x)/len(x)\n",
    "\n",
    "def stddev(x): # Standard deviation.\n",
    "    m = avg(x)\n",
    "    return sqrt(sum([(xi-m)**2 for xi in x])/len(x))\n",
    "\n",
    "def cov(x, y): # Covariance.\n",
    "    return sum([(xi-avg(x))*(yi-avg(y)) for (xi,yi) in zip(x,y)])/len(x)\n",
    "\n",
    "def corr(x, y): # Correlation coefficient.\n",
    "    if stddev(x)*stddev(y) != 0:\n",
    "        return cov(x, y)/(stddev(x)*stddev(y))\n",
    "\n",
    "def p(x, y):\n",
    "    c0 = corr(x, y) # The actual correlation coefficient.\n",
    "    corrs = [c0] # The list of alternative correlation coefficients.\n",
    "    for k in range(0, 2000):\n",
    "        y_permuted = permute(y)\n",
    "        corrs.append(corr(x, y_permuted))\n",
    "    return len([c for c in corrs if abs(c) >= abs(c0)])/len(corrs)\n",
    "\n",
    "print(corr(x, y))\n",
    "print(p(x, y))"
   ]
  },
  {
   "cell_type": "code",
   "execution_count": 35,
   "metadata": {
    "slideshow": {
     "slide_type": "skip"
    }
   },
   "outputs": [
    {
     "data": {
      "image/png": "[encoded data removed]",
      "text/plain": [
       "<Figure size 432x288 with 1 Axes>"
      ]
     },
     "metadata": {
      "image/png": {
       "height": 250,
       "width": 373
      },
      "needs_background": "light"
     },
     "output_type": "display_data"
    },
    {
     "data": {
      "image/png": "[encoded data removed]",
      "text/plain": [
       "<Figure size 432x288 with 1 Axes>"
      ]
     },
     "metadata": {
      "image/png": {
       "height": 269,
       "width": 377
      },
      "needs_background": "light"
     },
     "output_type": "display_data"
    }
   ],
   "source": [
    "c0 = corr(x, y) \n",
    "corrs = [c0]\n",
    "ps = []\n",
    "for k in range(0, 2000):\n",
    "    y_permuted = permute(y)\n",
    "    corrs.append(corr(x, y_permuted))\n",
    "    ps.append(len([c for c in corrs if abs(c) >= abs(c0)])/len(corrs))\n",
    "\n",
    "_ = plt.scatter(range(len(ps)), ps, s=8) # Example of permuted data.\n",
    "\n",
    "corrs_df = pd.DataFrame(corrs)\n",
    "_ = corrs_df.hist(bins=25, xlabelsize=16)"
   ]
  },
  {
   "cell_type": "markdown",
   "metadata": {
    "slideshow": {
     "slide_type": "slide"
    }
   },
   "source": [
    "In the above, we compute the correlation coefficient for a large number of permuted data sets. We then compute the fraction of these data sets that have a correlation coefficient with a higher absolute value than the correlation coefficient of the original data. We can call this fraction the $p$-value. Ideally, we would try all possible permutations; since this is infeasible, we can use this technique to get an approximation.\n",
    "\n",
    "Alternatively, we can use a library to compute the same information. The `scipy.stats.pearsonr()` function will return the correlation coefficient and the $p$-value."
   ]
  },
  {
   "cell_type": "code",
   "execution_count": 9,
   "metadata": {
    "slideshow": {
     "slide_type": "skip"
    }
   },
   "outputs": [
    {
     "name": "stdout",
     "output_type": "stream",
     "text": [
      "(0.3967089924093941, 0.03311538693314612)\n"
     ]
    }
   ],
   "source": [
    "import scipy.stats\n",
    "print(scipy.stats.pearsonr(x, y))"
   ]
  },
  {
   "cell_type": "markdown",
   "metadata": {
    "slideshow": {
     "slide_type": "slide"
    }
   },
   "source": [
    "**Example:** We consider an example with data that is highly correlated. Note how the true correlation coefficient is an outlier in the histogram."
   ]
  },
  {
   "cell_type": "code",
   "execution_count": 37,
   "metadata": {
    "slideshow": {
     "slide_type": "skip"
    }
   },
   "outputs": [
    {
     "name": "stdout",
     "output_type": "stream",
     "text": [
      "(0.9445469577235426, 3.41915704286615e-49)\n"
     ]
    },
    {
     "data": {
      "image/png": "[encoded data removed]",
      "text/plain": [
       "<Figure size 432x288 with 1 Axes>"
      ]
     },
     "metadata": {
      "image/png": {
       "height": 250,
       "width": 372
      },
      "needs_background": "light"
     },
     "output_type": "display_data"
    },
    {
     "data": {
      "image/png": "[encoded data removed]",
      "text/plain": [
       "<Figure size 432x288 with 1 Axes>"
      ]
     },
     "metadata": {
      "image/png": {
       "height": 269,
       "width": 385
      },
      "needs_background": "light"
     },
     "output_type": "display_data"
    }
   ],
   "source": [
    "from random import shuffle\n",
    "from math import sqrt\n",
    "\n",
    "# Define and plot some correlated data.\n",
    "line = np.array([1, 0.5])\n",
    "x = -10.0 + 20.0 * np.random.random(100)\n",
    "y = line[0]+(line[1]*x)+np.random.randn(100)\n",
    "_ = plt.scatter(x, y, s=8)\n",
    "\n",
    "# Plot an example of the permuted data.\n",
    "y_permuted = permute(y)\n",
    "_ = plt.scatter(x, y_permuted, s=8) \n",
    "\n",
    "# Plot the histogram from the permutation test.\n",
    "c0 = corr(x, y) \n",
    "corrs = [c0]\n",
    "for k in range(0, 1000):\n",
    "    y_permuted = permute(y)\n",
    "    corrs.append(corr(x, y_permuted))\n",
    "df = pd.DataFrame(corrs)\n",
    "_ = df.hist(bins=25,xlabelsize=16)\n",
    "\n",
    "print(scipy.stats.pearsonr(x, y))"
   ]
  },
  {
   "cell_type": "markdown",
   "metadata": {
    "slideshow": {
     "slide_type": "slide"
    }
   },
   "source": [
    "## Confidence intervals"
   ]
  },
  {
   "cell_type": "markdown",
   "metadata": {
    "slideshow": {
     "slide_type": "slide"
    }
   },
   "source": [
    "**Example:** Suppose we use our data set of correlation coefficients from the first example in these notes. We could imagine we computed the correlation coefficient of our model output with the labeled data. We then decided to do a permutation test to assess the significance of the correlation and obtained this distribution data set.\n",
    "\n",
    "Note, again, that we are using a data set of correlation coefficients as an example. Our distribution could just as easily be a data set of incomes of individuals, of accuracy measures of an algorithm, or any other data set of observations."
   ]
  },
  {
   "cell_type": "code",
   "execution_count": 39,
   "metadata": {},
   "outputs": [
    {
     "data": {
      "image/png": "[encoded data removed]",
      "text/plain": [
       "<Figure size 432x288 with 1 Axes>"
      ]
     },
     "metadata": {
      "image/png": {
       "height": 269,
       "width": 377
      },
      "needs_background": "light"
     },
     "output_type": "display_data"
    }
   ],
   "source": [
    "_ = corrs_df.hist(bins=25, xlabelsize=16)"
   ]
  },
  {
   "cell_type": "markdown",
   "metadata": {
    "slideshow": {
     "slide_type": "slide"
    }
   },
   "source": [
    "Suppose that the data set represents *all* possible correlation coefficients. We could compute the mean of this data set. For the sake of this example, we will call this the \"true mean\"."
   ]
  },
  {
   "cell_type": "code",
   "execution_count": 43,
   "metadata": {},
   "outputs": [
    {
     "data": {
      "text/plain": [
       "0    0.002007\n",
       "dtype: float64"
      ]
     },
     "execution_count": 43,
     "metadata": {},
     "output_type": "execute_result"
    }
   ],
   "source": [
    "mean_true = corrs_df.mean()\n",
    "mean_true"
   ]
  },
  {
   "cell_type": "markdown",
   "metadata": {},
   "source": [
    "However, in reality we are only going to obtain a sample from the set of correlation coefficients (e.g., when we do a permutation test). Notice that the mean of random samples of the data will not be exactly the same as the true mean. "
   ]
  },
  {
   "cell_type": "code",
   "execution_count": 48,
   "metadata": {},
   "outputs": [
    {
     "data": {
      "text/plain": [
       "[0   -0.005534\n",
       " dtype: float64, 0   -0.001936\n",
       " dtype: float64, 0    0.004963\n",
       " dtype: float64, 0   -0.018762\n",
       " dtype: float64, 0    0.014243\n",
       " dtype: float64, 0   -0.023711\n",
       " dtype: float64, 0    0.004478\n",
       " dtype: float64, 0    0.009107\n",
       " dtype: float64, 0    0.005644\n",
       " dtype: float64, 0    0.032257\n",
       " dtype: float64, 0    0.003943\n",
       " dtype: float64, 0   -0.000314\n",
       " dtype: float64, 0   -0.023081\n",
       " dtype: float64, 0   -0.046997\n",
       " dtype: float64, 0   -0.006728\n",
       " dtype: float64, 0    0.012576\n",
       " dtype: float64, 0    0.019486\n",
       " dtype: float64, 0   -0.007218\n",
       " dtype: float64, 0    0.028839\n",
       " dtype: float64, 0    0.026789\n",
       " dtype: float64]"
      ]
     },
     "execution_count": 48,
     "metadata": {},
     "output_type": "execute_result"
    }
   ],
   "source": [
    "[corrs_df.sample(100).mean() for _ in range(20)]"
   ]
  },
  {
   "cell_type": "markdown",
   "metadata": {},
   "source": [
    "We could examine the distribution of sample means."
   ]
  },
  {
   "cell_type": "code",
   "execution_count": 51,
   "metadata": {},
   "outputs": [
    {
     "data": {
      "text/plain": [
       "array([[<matplotlib.axes._subplots.AxesSubplot object at 0x115a11898>]],\n",
       "      dtype=object)"
      ]
     },
     "execution_count": 51,
     "metadata": {},
     "output_type": "execute_result"
    },
    {
     "data": {
      "image/png": "[encoded data removed]",
      "text/plain": [
       "<Figure size 432x288 with 1 Axes>"
      ]
     },
     "metadata": {
      "image/png": {
       "height": 269,
       "width": 374
      },
      "needs_background": "light"
     },
     "output_type": "display_data"
    }
   ],
   "source": [
    "means = pd.DataFrame([corrs_df.sample(100).mean() for _ in range(200)])\n",
    "means.hist(bins=25, xlabelsize=16)"
   ]
  },
  {
   "cell_type": "markdown",
   "metadata": {},
   "source": [
    "For each sample, we can compute a confidence interval."
   ]
  },
  {
   "cell_type": "code",
   "execution_count": 55,
   "metadata": {},
   "outputs": [
    {
     "data": {
      "text/plain": [
       "(array([-0.00625096]), array([0.01026513]))"
      ]
     },
     "execution_count": 55,
     "metadata": {},
     "output_type": "execute_result"
    }
   ],
   "source": [
    "import statsmodels.stats.api as sms\n",
    "\n",
    "sms.DescrStatsW(corrs_df).tconfint_mean(alpha = 0.05)"
   ]
  },
  {
   "cell_type": "markdown",
   "metadata": {},
   "source": [
    "Notice that for a 95% interval, we will find that the true mean falls within about 19/20 of the intervals obtained from the samples."
   ]
  },
  {
   "cell_type": "code",
   "execution_count": 82,
   "metadata": {},
   "outputs": [
    {
     "data": {
      "text/plain": [
       "[(array([-0.05498114]), array([0.02258227])),\n",
       " (array([-0.01537001]), array([0.0615265])),\n",
       " (array([-0.06357366]), array([0.01593673])),\n",
       " (array([-0.03308079]), array([0.04046078])),\n",
       " (array([-0.04660606]), array([0.02762073])),\n",
       " (array([-0.0510793]), array([0.026902])),\n",
       " (array([-0.0252887]), array([0.0444717])),\n",
       " (array([-0.00548467]), array([0.06848975])),\n",
       " (array([-0.04047032]), array([0.03025841])),\n",
       " (array([-0.04735663]), array([0.02596114])),\n",
       " (array([-0.04227486]), array([0.03011455])),\n",
       " (array([-0.03376174]), array([0.05011788])),\n",
       " (array([-0.01604528]), array([0.06346317])),\n",
       " (array([0.01455243]), array([0.09074303])),\n",
       " (array([0.00045009]), array([0.07153114])),\n",
       " (array([-0.03008194]), array([0.04612274])),\n",
       " (array([-0.06495846]), array([0.01067671])),\n",
       " (array([-0.06292015]), array([0.00634087])),\n",
       " (array([-0.04021957]), array([0.04022268])),\n",
       " (array([-0.05584894]), array([0.02530836]))]"
      ]
     },
     "execution_count": 82,
     "metadata": {},
     "output_type": "execute_result"
    }
   ],
   "source": [
    "conf_ints = [sms.DescrStatsW(corrs_df.sample(100)).tconfint_mean(alpha = 0.05) for _ in range(20)]\n",
    "conf_ints"
   ]
  },
  {
   "cell_type": "code",
   "execution_count": 81,
   "metadata": {},
   "outputs": [
    {
     "data": {
      "text/plain": [
       "[0    True\n",
       " dtype: bool, 0    True\n",
       " dtype: bool, 0    True\n",
       " dtype: bool, 0    False\n",
       " dtype: bool, 0    True\n",
       " dtype: bool, 0    True\n",
       " dtype: bool, 0    True\n",
       " dtype: bool, 0    True\n",
       " dtype: bool, 0    True\n",
       " dtype: bool, 0    True\n",
       " dtype: bool, 0    True\n",
       " dtype: bool, 0    True\n",
       " dtype: bool, 0    True\n",
       " dtype: bool, 0    True\n",
       " dtype: bool, 0    True\n",
       " dtype: bool, 0    True\n",
       " dtype: bool, 0    True\n",
       " dtype: bool, 0    True\n",
       " dtype: bool, 0    True\n",
       " dtype: bool, 0    True\n",
       " dtype: bool]"
      ]
     },
     "execution_count": 81,
     "metadata": {},
     "output_type": "execute_result"
    }
   ],
   "source": [
    "[np.logical_and(lo[0] < mean_true, mean_true < hi[0]) for (lo, hi) in conf_ints]"
   ]
  },
  {
   "cell_type": "code",
   "execution_count": 88,
   "metadata": {},
   "outputs": [
    {
     "data": {
      "text/plain": [
       "91.375"
      ]
     },
     "execution_count": 88,
     "metadata": {},
     "output_type": "execute_result"
    }
   ],
   "source": [
    "samples = 800\n",
    "coverage = 0.90\n",
    "conf_ints = [sms.DescrStatsW(corrs_df.sample(100)).tconfint_mean(alpha = (1-coverage)) for _ in range(samples)]\n",
    "100*len([1 for (lo, hi) in conf_ints if np.logical_and(lo[0] < mean_true, mean_true < hi[0]).bool()])/samples"
   ]
  }
 ],
 "metadata": {
  "anaconda-cloud": {},
  "celltoolbar": "Slideshow",
  "kernelspec": {
   "display_name": "Python 3",
   "language": "python",
   "name": "python3"
  },
  "language_info": {
   "codemirror_mode": {
    "name": "ipython",
    "version": 3
   },
   "file_extension": ".py",
   "mimetype": "text/x-python",
   "name": "python",
   "nbconvert_exporter": "python",
   "pygments_lexer": "ipython3",
   "version": "3.6.4"
  }
 },
 "nbformat": 4,
 "nbformat_minor": 1
}
